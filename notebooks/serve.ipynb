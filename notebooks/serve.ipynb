{
 "cells": [
  {
   "cell_type": "markdown",
   "metadata": {},
   "source": [
    "## serve\n",
    "\n",
    "In this notebook we serve a version of the trained model using a Spell model server.\n",
    "\n",
    "Inspecting the [hyperparameter searches results page](https://web.spell.ml/spell-org/hyper-searches/24) and looking at per model metrics for the best models to come out of that search, it looks like the model from [run 952](https://web.spell.ml/spell-org/runs/952) performed best. We'll grab this model and turn it into a server."
   ]
  },
  {
   "cell_type": "code",
   "execution_count": 1,
   "metadata": {},
   "outputs": [],
   "source": [
    "!mkdir ../server/"
   ]
  },
  {
   "cell_type": "code",
   "execution_count": 2,
   "metadata": {},
   "outputs": [
    {
     "name": "stdout",
     "output_type": "stream",
     "text": [
      "Writing ../server/serve.py\n"
     ]
    }
   ],
   "source": [
    "%%writefile ../server/serve.py\n",
    "import torch\n",
    "from torch import nn\n",
    "from torch import optim\n",
    "\n",
    "# Inlining the model definition in the server code for simplicity. In a production setting, we\n",
    "# recommend creating a model module and importing that instead.\n",
    "class CIFAR10Model(nn.Module):\n",
    "    def __init__(\n",
    "        self,\n",
    "        conv1_filters=32, conv1_dropout=0.25,\n",
    "        conv2_filters=64, conv2_dropout=0.25,\n",
    "        dense_layer=512, dense_dropout=0.5\n",
    "    ):\n",
    "        super().__init__()\n",
    "        self.cnn_block_1 = nn.Sequential(*[\n",
    "            nn.Conv2d(3, self.conv1_filters, 3, padding=1),\n",
    "            nn.ReLU(),\n",
    "            nn.Conv2d(self.conv1_filters, self.conv2_filters, 3, padding=1),\n",
    "            nn.ReLU(),\n",
    "            nn.MaxPool2d(kernel_size=2),\n",
    "            nn.Dropout(self.conv1_dropout)\n",
    "        ])\n",
    "        self.cnn_block_2 = nn.Sequential(*[\n",
    "            nn.Conv2d(self.conv2_filters, self.conv2_filters, 3, padding=1),\n",
    "            nn.ReLU(),\n",
    "            nn.Conv2d(self.conv2_filters, self.conv2_filters, 3, padding=1),\n",
    "            nn.ReLU(),\n",
    "            nn.MaxPool2d(kernel_size=2),\n",
    "            nn.Dropout(self.conv2_dropout)\n",
    "        ])\n",
    "        self.flatten = lambda inp: torch.flatten(inp, 1)\n",
    "        self.head = nn.Sequential(*[\n",
    "            nn.Linear(self.conv2_filters * 8 * 8, self.dense_layer),\n",
    "            nn.ReLU(),\n",
    "            nn.Dropout(self.dense_dropout),\n",
    "            nn.Linear(self.dense_layer, 10)\n",
    "        ])\n",
    "    \n",
    "    def forward(self, X):\n",
    "        X = self.cnn_block_1(X)\n",
    "        X = self.cnn_block_2(X)\n",
    "        X = self.flatten(X)\n",
    "        X = self.head(X)\n",
    "        return X\n",
    "\n",
    "\n",
    "from spell.serving import BasePredictor\n",
    "class Predictor(BasePredictor):\n",
    "    def __init__(self):\n",
    "        self.clf = CIFAR10Model()\n",
    "        self.clf.load_state_dict(torch.load(\"/model/checkpoints/epoch_20.pth\"))\n",
    "        self.clf.eval()\n",
    "\n",
    "    def predict(self, payload):\n",
    "        return \"Hello World!\""
   ]
  },
  {
   "cell_type": "code",
   "execution_count": 4,
   "metadata": {},
   "outputs": [],
   "source": [
    "!spell model create cifar10 runs/952"
   ]
  },
  {
   "cell_type": "code",
   "execution_count": null,
   "metadata": {},
   "outputs": [],
   "source": [
    "!spell server serve \\\n",
    "    --serving-group default \\\n",
    "    --github-ref serving \\\n",
    "    --min-pods 1 --max-pods 1\n",
    "    -- cifar10 ../server/serve.py"
   ]
  }
 ],
 "metadata": {
  "kernelspec": {
   "display_name": "Python 3",
   "language": "python",
   "name": "python3"
  },
  "language_info": {
   "codemirror_mode": {
    "name": "ipython",
    "version": 3
   },
   "file_extension": ".py",
   "mimetype": "text/x-python",
   "name": "python",
   "nbconvert_exporter": "python",
   "pygments_lexer": "ipython3",
   "version": "3.7.6"
  }
 },
 "nbformat": 4,
 "nbformat_minor": 4
}
