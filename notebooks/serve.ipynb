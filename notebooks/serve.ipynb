{
 "cells": [
  {
   "cell_type": "markdown",
   "metadata": {},
   "source": [
    "## serve\n",
    "\n",
    "In this notebook we serve a version of the trained model using a Spell model server.\n",
    "\n",
    "Inspecting the [hyperparameter searches results page](https://web.spell.ml/spell-org/hyper-searches/24) and looking at per model metrics for the best models to come out of that search, it looks like the model from [run 952](https://web.spell.ml/spell-org/runs/952) performed best. We'll grab this model and turn it into a server."
   ]
  },
  {
   "cell_type": "code",
   "execution_count": 1,
   "metadata": {},
   "outputs": [],
   "source": [
    "!mkdir ../server/"
   ]
  },
  {
   "cell_type": "code",
   "execution_count": 1,
   "metadata": {},
   "outputs": [
    {
     "name": "stdout",
     "output_type": "stream",
     "text": [
      "Overwriting ../server/serve.py\n"
     ]
    }
   ],
   "source": [
    "%%writefile ../server/serve.py\n",
    "import torch\n",
    "from torch import nn\n",
    "import torchvision\n",
    "\n",
    "import numpy as np\n",
    "import base64\n",
    "from PIL import Image\n",
    "import io\n",
    "\n",
    "from spell.serving import BasePredictor\n",
    "\n",
    "\n",
    "# Inlining the model definition in the server code for simplicity. In a production setting, we\n",
    "# recommend creating a model module and importing that instead.\n",
    "class CIFAR10Model(nn.Module):\n",
    "    def __init__(\n",
    "        self,\n",
    "        conv1_filters=32, conv1_dropout=0.25,\n",
    "        conv2_filters=64, conv2_dropout=0.25,\n",
    "        dense_layer=512, dense_dropout=0.5\n",
    "    ):\n",
    "        super().__init__()\n",
    "        self.cnn_block_1 = nn.Sequential(*[\n",
    "            nn.Conv2d(3, conv1_filters, 3, padding=1),\n",
    "            nn.ReLU(),\n",
    "            nn.Conv2d(conv1_filters, conv2_filters, 3, padding=1),\n",
    "            nn.ReLU(),\n",
    "            nn.MaxPool2d(kernel_size=2),\n",
    "            nn.Dropout(conv1_dropout)\n",
    "        ])\n",
    "        self.cnn_block_2 = nn.Sequential(*[\n",
    "            nn.Conv2d(conv2_filters, conv2_filters, 3, padding=1),\n",
    "            nn.ReLU(),\n",
    "            nn.Conv2d(conv2_filters, conv2_filters, 3, padding=1),\n",
    "            nn.ReLU(),\n",
    "            nn.MaxPool2d(kernel_size=2),\n",
    "            nn.Dropout(conv2_dropout)\n",
    "        ])\n",
    "        self.flatten = lambda inp: torch.flatten(inp, 1)\n",
    "        self.head = nn.Sequential(*[\n",
    "            nn.Linear(conv2_filters * 8 * 8, dense_layer),\n",
    "            nn.ReLU(),\n",
    "            nn.Dropout(dense_dropout),\n",
    "            nn.Linear(dense_layer, 10)\n",
    "        ])\n",
    "\n",
    "    def forward(self, X):\n",
    "        X = self.cnn_block_1(X)\n",
    "        X = self.cnn_block_2(X)\n",
    "        X = self.flatten(X)\n",
    "        X = self.head(X)\n",
    "        return X\n",
    "\n",
    "\n",
    "class Predictor(BasePredictor):\n",
    "    def __init__(self):\n",
    "        self.clf = CIFAR10Model()\n",
    "        # self.clf.load_state_dict(torch.load(\"/model/checkpoints/epoch_20.pth\"))\n",
    "        # TODO: use GPU instead of CPU\n",
    "        self.clf.load_state_dict(torch.load(\"/model/checkpoints/model_final.pth\", map_location=\"cpu\"))\n",
    "        self.clf.eval()\n",
    "\n",
    "        self.transform_test = torchvision.transforms.Compose([\n",
    "            torchvision.transforms.Resize((32, 32)),\n",
    "            torchvision.transforms.ToTensor(),\n",
    "            torchvision.transforms.Normalize((0.4914, 0.4822, 0.4465), (0.2023, 0.1994, 0.2010))\n",
    "        ])\n",
    "\n",
    "        self.labels = ['Airplane', 'Automobile', 'Bird', 'Cat', 'Deer', 'Dog', 'Frog', 'Horse', 'Ship', 'Truck']\n",
    "\n",
    "    def predict(self, payload):\n",
    "        img = base64.b64decode(payload['image'])\n",
    "        img = Image.open(io.BytesIO(img), formats=[payload['format']])\n",
    "        img_tensor = self.transform_test(img)\n",
    "        # batch_size=1\n",
    "        img_tensor_batch = img_tensor[np.newaxis]\n",
    "\n",
    "        scores = self.clf(img_tensor_batch)\n",
    "        class_match_idx = scores.argmax()\n",
    "        class_match = self.labels[class_match_idx]\n",
    "\n",
    "        return {'class': class_match}\n"
   ]
  },
  {
   "cell_type": "code",
   "execution_count": 1,
   "metadata": {},
   "outputs": [
    {
     "name": "stdout",
     "output_type": "stream",
     "text": [
      "\u001b[0m✨ Preparing uncommitted changes…\n",
      "\u001b[0mEnumerating objects: 13, done.\n",
      "Counting objects: 100% (13/13), done.\n",
      "Delta compression using up to 12 threads\n",
      "Compressing objects: 100% (6/6), done.\n",
      "Writing objects: 100% (7/7), 4.39 KiB | 4.39 MiB/s, done.\n",
      "Total 7 (delta 2), reused 0 (delta 0)\n",
      "To git.spell.ml:spell-org/85c7c7fd7d33215a68be4489dec82505ae6908ad.git\n",
      " * [new branch]      HEAD -> br_9baf7939e2ce3047895cda7c847e43e0694749a9\n",
      "💫 Starting server cifar10…\n",
      "\u001b[0m\u001b[0m"
     ]
    }
   ],
   "source": [
    "!spell server serve \\\n",
    "    --serving-group t4-node-group-prod \\\n",
    "    --min-pods 1 --max-pods 1 \\\n",
    "    --pip Pillow==8.0.0 \\\n",
    "    --validate \\\n",
    "    -- cifar10:v1 ../server/serve.py"
   ]
  },
  {
   "cell_type": "markdown",
   "metadata": {},
   "source": [
    "Make an example `base64` string and save it to disk (modify this code to make your own test image):"
   ]
  },
  {
   "cell_type": "code",
   "execution_count": 3,
   "metadata": {},
   "outputs": [],
   "source": [
    "import base64\n",
    "from PIL import Image\n",
    "import json\n",
    "import io\n",
    "\n",
    "dog = Image.open(\"/Users/alekseybilogur/Desktop/dog.jpg\")\n",
    "# dog = dog.resize((32, 32))\n",
    "img_byte_arr = io.BytesIO()\n",
    "dog.save(img_byte_arr, format='JPEG')\n",
    "base64_dog = base64.b64encode(img_byte_arr.getvalue())\n",
    "\n",
    "with open(\"../test.json\", \"w\") as fp:\n",
    "    fp.write(json.dumps({\"image\": base64_dog.decode('utf8'), \"format\": \"JPEG\"}))"
   ]
  },
  {
   "cell_type": "code",
   "execution_count": 2,
   "metadata": {},
   "outputs": [],
   "source": [
    "# !echo test.json >> ../.gitignore"
   ]
  },
  {
   "cell_type": "markdown",
   "metadata": {},
   "source": [
    "Try the model server out:"
   ]
  },
  {
   "cell_type": "code",
   "execution_count": 4,
   "metadata": {},
   "outputs": [
    {
     "name": "stdout",
     "output_type": "stream",
     "text": [
      "{\"class\":\"Dog\"}"
     ]
    }
   ],
   "source": [
    "!curl -X POST -H \"Content-Type: application/json\" \\\n",
    "   --data @../test.json \\\n",
    "   https://spell-org.spell-org.spell.services/spell-org/cifar10/predict"
   ]
  }
 ],
 "metadata": {
  "kernelspec": {
   "display_name": "Python 3",
   "language": "python",
   "name": "python3"
  },
  "language_info": {
   "codemirror_mode": {
    "name": "ipython",
    "version": 3
   },
   "file_extension": ".py",
   "mimetype": "text/x-python",
   "name": "python",
   "nbconvert_exporter": "python",
   "pygments_lexer": "ipython3",
   "version": "3.7.6"
  }
 },
 "nbformat": 4,
 "nbformat_minor": 4
}